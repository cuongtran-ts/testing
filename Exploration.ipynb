{
 "cells": [
  {
   "cell_type": "code",
   "execution_count": 74,
   "metadata": {},
   "outputs": [
    {
     "name": "stdout",
     "output_type": "stream",
     "text": [
      "I love reading books . I like watching movies and I like playing football I lovee buying new bookes. Books is important for our lives\n"
     ]
    }
   ],
   "source": [
    "corpus = [\n",
    "  'I love reading books .',\n",
    " 'I like watching movies and I like playing football',\n",
    "   'I lovee buying new bookes.',\n",
    "    'Books is important for our lives',\n",
    "]\n",
    "all_words = ' '.join(corpus)\n",
    "            \n",
    "print(all_words)              "
   ]
  },
  {
   "cell_type": "markdown",
   "metadata": {},
   "source": [
    "### 1. Main functions"
   ]
  },
  {
   "cell_type": "code",
   "execution_count": 94,
   "metadata": {},
   "outputs": [],
   "source": [
    "import copy\n",
    "import operator\n",
    "from collections import OrderedDict\n",
    "\n",
    "def merge_all_documents(corpus, options = {'lower_case':True}):\n",
    "    \n",
    "    return ' '.join([doc.lower() for doc in corpus] )\n",
    "    \n",
    "def computeWordFreq(all_words):\n",
    "    \n",
    "    if len(all_words) <1 :\n",
    "        print('Warning, empty corpus !')\n",
    "        return {}\n",
    "\n",
    "    \n",
    "    # sort the words in make-up dictionary for fast look up\n",
    "    unique_words =  list(set(all_words.split(\" \")))\n",
    "    n = len(unique_words)\n",
    "    freq_dict = OrderedDict()\n",
    "    for a_word in  unique_words:\n",
    "        freq = all_words.count(a_word)/n\n",
    "        freq_dict[a_word] = freq\n",
    "   \n",
    "    # should sort the dictionary by value here for suggestion of correct words\n",
    "    # word with higher frequencey will have higher prority to be suggested \n",
    "   \n",
    "    for key, value in sorted(freq_dict.items(), key=lambda item: item[1]):\n",
    "        freq_dict[key] = value\n",
    "\n",
    "    return freq_dict\n",
    "\n",
    "lower_cases_corpus = merge_all_documents(corpus)\n",
    "word_freq_dict = computeWordFreq(lower_cases_corpus)\n",
    "\n",
    "def get_high_freq_word(word_freq_dict, threshold_pct = 0.06):\n",
    "    '''\n",
    "    Get only high frequency words, consider typos as of words  \n",
    "    that have smallest frequency\n",
    "    '''\n",
    "    all_words = word_freq_dict.keys()\n",
    "    high_freq_word = copy.deepcopy(word_freq_dict) \n",
    "    \n",
    "    if len( all_words ) <1:\n",
    "        print('Warning, empty dictionary !')\n",
    "        return {}\n",
    "    \n",
    "    for key in all_words:\n",
    "        if word_freq_dict[key] < threshold_pct:\n",
    "             del high_freq_word[key]\n",
    "    \n",
    "    return high_freq_word\n",
    "            \n"
   ]
  },
  {
   "cell_type": "code",
   "execution_count": 95,
   "metadata": {},
   "outputs": [
    {
     "name": "stdout",
     "output_type": "stream",
     "text": [
      "OrderedDict([('i', 0.7), ('books', 0.1), ('love', 0.1), ('.', 0.1), ('like', 0.1)])\n"
     ]
    }
   ],
   "source": [
    "word_freq_dict =  get_high_freq_word(word_freq_dict)\n",
    "print(word_freq_dict)\n"
   ]
  },
  {
   "cell_type": "code",
   "execution_count": 103,
   "metadata": {},
   "outputs": [],
   "source": [
    "def is_correct_word(a_word, word_freq_dict):\n",
    "    '''\n",
    "    Checking if an entering word is a correct or typos\n",
    "    '''\n",
    "    words = word_freq_dict.keys()\n",
    "    \n",
    "    if a_word in words:\n",
    "        print('Correct word!')\n",
    "    else:\n",
    "        print('Warning a typo!')\n",
    "        \n",
    "import string\n",
    "alphabet = string.ascii_lowercase\n",
    "\n",
    "def insert_character(a_word, c, position = 0):\n",
    "    '''\n",
    "    Insert a character to a word at position\n",
    "    '''\n",
    "    n = len(a_word)\n",
    "    if (position >= n+1) or (position <0):\n",
    "        print ('Warning out of range, cannot insert ')\n",
    "        return \n",
    "    return a_word[:position] + c + a_word[position:] \n",
    "\n",
    "def replace_character(a_word, c, position = 0):\n",
    "    '''\n",
    "    Replace a character at position in a word by a given character\n",
    "    '''\n",
    "    n = len(a_word)\n",
    "    if (position >= n) or (position <0):\n",
    "        print ('Warning out of range, cannot insert ')\n",
    "        return \n",
    "    return a_word[:position] + c + a_word[position+1:] \n",
    "    \n",
    "    \n",
    "def del_character(a_word, position = 0):  \n",
    "    '''\n",
    "    Delete one character from a given word at the given position\n",
    "    '''\n",
    "    n = len(a_word)\n",
    "    if (position >= n) or (position <0):\n",
    "        print ('Warning out of range, cannot insert ')\n",
    "        return\n",
    "    return a_word[:position] + a_word[position+1:] \n",
    "    \n",
    "    "
   ]
  },
  {
   "cell_type": "code",
   "execution_count": 98,
   "metadata": {},
   "outputs": [
    {
     "data": {
      "text/plain": [
       "OrderedDict([('i', 0.7),\n",
       "             ('books', 0.1),\n",
       "             ('love', 0.1),\n",
       "             ('.', 0.1),\n",
       "             ('like', 0.1)])"
      ]
     },
     "execution_count": 98,
     "metadata": {},
     "output_type": "execute_result"
    }
   ],
   "source": [
    "word_freq_dict"
   ]
  },
  {
   "cell_type": "code",
   "execution_count": 106,
   "metadata": {
    "collapsed": true
   },
   "outputs": [],
   "source": [
    "def suggest_correct_spelling(a_word, word_freq_dict):\n",
    "    '''\n",
    "    Suggest a correct spelling for a typing word\n",
    "    '''\n",
    "    for i in range(len(a_word)):\n",
    "        \n",
    "        temp_word = del_character(a_word, position = i)\n",
    "        if temp_word in  word_freq_dict.keys():\n",
    "            return temp_word\n",
    "        \n",
    "        for c in alphabet:\n",
    "            temp_word = insert_character(a_word, c, position = i)\n",
    "            if temp_word in  word_freq_dict.keys():\n",
    "                return temp_word\n",
    "            \n",
    "            temp_word = replace_character(a_word, c, position = i)\n",
    "            if temp_word in  word_freq_dict.keys():\n",
    "                return temp_word\n",
    "        "
   ]
  },
  {
   "cell_type": "markdown",
   "metadata": {},
   "source": [
    "### 2. Demo"
   ]
  },
  {
   "cell_type": "code",
   "execution_count": 108,
   "metadata": {},
   "outputs": [
    {
     "name": "stdout",
     "output_type": "stream",
     "text": [
      "books\n"
     ]
    }
   ],
   "source": [
    "print( suggest_correct_spelling('bookk', word_freq_dict))"
   ]
  },
  {
   "cell_type": "code",
   "execution_count": null,
   "metadata": {
    "collapsed": true
   },
   "outputs": [],
   "source": []
  }
 ],
 "metadata": {
  "kernelspec": {
   "display_name": "Python 3",
   "language": "python",
   "name": "python3"
  },
  "language_info": {
   "codemirror_mode": {
    "name": "ipython",
    "version": 3
   },
   "file_extension": ".py",
   "mimetype": "text/x-python",
   "name": "python",
   "nbconvert_exporter": "python",
   "pygments_lexer": "ipython3",
   "version": "3.6.3"
  }
 },
 "nbformat": 4,
 "nbformat_minor": 2
}
