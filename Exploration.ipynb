{
 "cells": [
  {
   "cell_type": "code",
   "execution_count": 24,
   "metadata": {},
   "outputs": [
    {
     "name": "stdout",
     "output_type": "stream",
     "text": [
      "I love reading books . I like watching movies and I like playing football I lovee buying new bookes. Books is important for our lives\n"
     ]
    }
   ],
   "source": [
    "corpus = [\n",
    "  'I love reading books .',\n",
    " 'I like watching movies and I like playing football',\n",
    "   'I lovee buying new bookes.',\n",
    "    'Books is important for our lives',\n",
    "]\n",
    "all_words = ' '.join(corpus)\n",
    "            \n",
    "print(all_words)              "
   ]
  },
  {
   "cell_type": "code",
   "execution_count": 40,
   "metadata": {},
   "outputs": [],
   "source": [
    "import copy\n",
    "\n",
    "def merge_all_documents(corpus, options = {'lower_case':True}):\n",
    "    \n",
    "    return ' '.join([doc.lower() for doc in corpus] )\n",
    "    \n",
    "def computeWordFreq(all_words):\n",
    "    \n",
    "    if len(all_words) <1 :\n",
    "        print('Warning, empty corpus !')\n",
    "        return {}\n",
    "\n",
    "    freq_dict = {}\n",
    "    # sort the words in make-up dictionary for fast look up\n",
    "    unique_words = sorted( list(set(all_words.split(\" \"))))\n",
    "    n = len(unique_words)\n",
    "    for a_word in  unique_words:\n",
    "        freq = all_words.count(a_word)/n\n",
    "        freq_dict[a_word] = freq\n",
    "\n",
    "    return freq_dict\n",
    "\n",
    "lower_cases_corpus = merge_all_documents(corpus)\n",
    "word_freq_dict = computeWordFreq(lower_cases_corpus)\n",
    "\n",
    "def get_high_freq_word(word_freq_dict, threshold_pct = 0.06):\n",
    "    '''\n",
    "    Get only high frequency words, consider typos as of words  \n",
    "    that have smallest frequency\n",
    "    '''\n",
    "    all_words = word_freq_dict.keys()\n",
    "    high_freq_word = copy.deepcopy(word_freq_dict) \n",
    "    \n",
    "    if len( all_words ) <1:\n",
    "        print('Warning, empty dictionary !')\n",
    "        return {}\n",
    "    \n",
    "    for key in all_words:\n",
    "        if word_freq_dict[key] < threshold_pct:\n",
    "             del high_freq_word[key]\n",
    "    \n",
    "    return high_freq_word\n",
    "            \n",
    "    \n",
    "    \n",
    "    \n",
    "    "
   ]
  },
  {
   "cell_type": "code",
   "execution_count": 41,
   "metadata": {},
   "outputs": [
    {
     "name": "stdout",
     "output_type": "stream",
     "text": [
      "{'.': 0.1, 'books': 0.1, 'i': 0.7, 'like': 0.1, 'love': 0.1}\n"
     ]
    }
   ],
   "source": [
    "word_freq_dict =  get_high_freq_word(word_freq_dict)\n",
    "print(word_freq_dict)"
   ]
  },
  {
   "cell_type": "code",
   "execution_count": 42,
   "metadata": {
    "collapsed": true
   },
   "outputs": [],
   "source": [
    "def is_correct_word(a_word, word_freq_dict):\n",
    "    '''\n",
    "    Checking if an entering word is a correct or typos\n",
    "    '''\n",
    "    words = word_freq_dict.keys()\n",
    "    \n",
    "    if a_word in words:\n",
    "        print('Correct word!')\n",
    "    else:\n",
    "        print('Warning a typo!')\n",
    "        \n",
    "        \n",
    "def suggest_correct_spelling(a_word, word_freq_dict):\n",
    "    '''\n",
    "    Suggest a correct spelling for a typing word\n",
    "    '''\n",
    "    \n",
    "    "
   ]
  },
  {
   "cell_type": "code",
   "execution_count": null,
   "metadata": {
    "collapsed": true
   },
   "outputs": [],
   "source": []
  }
 ],
 "metadata": {
  "kernelspec": {
   "display_name": "Python 3",
   "language": "python",
   "name": "python3"
  },
  "language_info": {
   "codemirror_mode": {
    "name": "ipython",
    "version": 3
   },
   "file_extension": ".py",
   "mimetype": "text/x-python",
   "name": "python",
   "nbconvert_exporter": "python",
   "pygments_lexer": "ipython3",
   "version": "3.6.3"
  }
 },
 "nbformat": 4,
 "nbformat_minor": 2
}
